{
 "cells": [
  {
   "cell_type": "markdown",
   "metadata": {
    "colab_type": "text",
    "id": "JQwDy3kmIur6"
   },
   "source": [
    "*Downloading git LFS*"
   ]
  },
  {
   "cell_type": "code",
   "execution_count": null,
   "metadata": {
    "colab": {
     "autoexec": {
      "startup": false,
      "wait_interval": 0
     }
    },
    "colab_type": "code",
    "id": "lBcLdvOAFIfk"
   },
   "outputs": [],
   "source": [
    "!wget https://github.com/git-lfs/git-lfs/releases/download/v2.4.2/git-lfs-linux-amd64-2.4.2.tar.gz"
   ]
  },
  {
   "cell_type": "markdown",
   "metadata": {
    "colab_type": "text",
    "id": "uOPCNnc7Is5M"
   },
   "source": [
    "*Extracting git LFS*"
   ]
  },
  {
   "cell_type": "code",
   "execution_count": null,
   "metadata": {
    "colab": {
     "autoexec": {
      "startup": false,
      "wait_interval": 0
     }
    },
    "colab_type": "code",
    "id": "AFRCLSR9FUmu"
   },
   "outputs": [],
   "source": [
    "!tar xvf git-lfs-linux-amd64-2.4.2.tar.gz"
   ]
  },
  {
   "cell_type": "markdown",
   "metadata": {
    "colab_type": "text",
    "id": "x-Fid9IaI-J-"
   },
   "source": [
    "*Installing git LFS*"
   ]
  },
  {
   "cell_type": "code",
   "execution_count": null,
   "metadata": {
    "colab": {
     "autoexec": {
      "startup": false,
      "wait_interval": 0
     }
    },
    "colab_type": "code",
    "id": "L0P6khtrFXpW"
   },
   "outputs": [],
   "source": [
    "!cd git-lfs-2.4.2/ && ./install.sh"
   ]
  },
  {
   "cell_type": "code",
   "execution_count": null,
   "metadata": {
    "colab": {
     "autoexec": {
      "startup": false,
      "wait_interval": 0
     }
    },
    "colab_type": "code",
    "id": "kgzSKuXUFZi0"
   },
   "outputs": [],
   "source": [
    "!git lfs install"
   ]
  },
  {
   "cell_type": "markdown",
   "metadata": {
    "colab_type": "text",
    "id": "nJ31i4Z8JHa8"
   },
   "source": [
    "*Cloning the repository*"
   ]
  },
  {
   "cell_type": "code",
   "execution_count": null,
   "metadata": {
    "colab": {
     "autoexec": {
      "startup": false,
      "wait_interval": 0
     }
    },
    "colab_type": "code",
    "id": "NPOQ5rFHFbnU"
   },
   "outputs": [],
   "source": [
    "!git lfs clone --recurse-submodules https://github.com/marco-c/autowebcompat.git"
   ]
  },
  {
   "cell_type": "markdown",
   "metadata": {
    "colab_type": "text",
    "id": "8E5K5gxGJKrW"
   },
   "source": [
    "*Marking working directory*"
   ]
  },
  {
   "cell_type": "code",
   "execution_count": null,
   "metadata": {
    "colab": {
     "autoexec": {
      "startup": false,
      "wait_interval": 0
     }
    },
    "colab_type": "code",
    "id": "GIxBvGGdFdoK"
   },
   "outputs": [],
   "source": [
    "import os\n",
    "os.chdir('autowebcompat')"
   ]
  },
  {
   "cell_type": "markdown",
   "metadata": {
    "colab_type": "text",
    "id": "ugZB2EhbJOui"
   },
   "source": [
    "*Installing requirements*"
   ]
  },
  {
   "cell_type": "code",
   "execution_count": null,
   "metadata": {
    "colab": {
     "autoexec": {
      "startup": false,
      "wait_interval": 0
     }
    },
    "colab_type": "code",
    "id": "wBqw99O-FfTK"
   },
   "outputs": [],
   "source": [
    "!pip install selenium==3.4.3\n"
   ]
  },
  {
   "cell_type": "markdown",
   "metadata": {
    "colab_type": "text",
    "id": "2HichwT2JR4W"
   },
   "source": [
    "*Run the model*"
   ]
  },
  {
   "cell_type": "code",
   "execution_count": null,
   "metadata": {
    "colab": {
     "autoexec": {
      "startup": false,
      "wait_interval": 0
     }
    },
    "colab_type": "code",
    "id": "K8peoV51Fj4A"
   },
   "outputs": [],
   "source": [
    "import argparse\n",
    "import random\n",
    "import time\n",
    "\n",
    "from keras.callbacks import Callback\n",
    "from keras.callbacks import EarlyStopping\n",
    "from keras.callbacks import ModelCheckpoint\n",
    "\n",
    "from autowebcompat import network\n",
    "from autowebcompat import utils"
   ]
  },
  {
   "cell_type": "code",
   "execution_count": null,
   "metadata": {},
   "outputs": [],
   "source": [
    "BATCH_SIZE = 32\n",
    "EPOCHS = 15\n",
    "random.seed(42)"
   ]
  },
  {
   "cell_type": "code",
   "execution_count": null,
   "metadata": {},
   "outputs": [],
   "source": [
    "args = {}\n",
    "args['network'] = 'vgg16'\n",
    "args['optimiser'] = 'sgd'\n",
    "args['classification_type'] = 'Y + D vs N'\n",
    "args['early_stopping'] = False"
   ]
  },
  {
   "cell_type": "code",
   "execution_count": null,
   "metadata": {},
   "outputs": [],
   "source": [
    "labels = utils.read_labels()\n",
    "print(\"read lables\")\n",
    "utils.prepare_images()\n",
    "print(\"prepared images\")\n",
    "all_image_names = [i for i in utils.get_images() if i in labels]\n",
    "all_images = sum([[i + '_firefox.png', i + '_chrome.png'] for i in all_image_names], [])\n",
    "image = utils.load_image(all_images[0])\n",
    "input_shape = image.shape"
   ]
  },
  {
   "cell_type": "code",
   "execution_count": null,
   "metadata": {},
   "outputs": [],
   "source": [
    "SAMPLE_SIZE = len(all_image_names)\n",
    "TRAIN_SAMPLE = 80 * (SAMPLE_SIZE // 100)\n",
    "VALIDATION_SAMPLE = 10 * (SAMPLE_SIZE // 100)\n",
    "TEST_SAMPLE = SAMPLE_SIZE - (TRAIN_SAMPLE + VALIDATION_SAMPLE)"
   ]
  },
  {
   "cell_type": "code",
   "execution_count": null,
   "metadata": {},
   "outputs": [],
   "source": [
    "def load_pair(fname):\n",
    "    return [fname + '_firefox.png', fname + '_chrome.png']"
   ]
  },
  {
   "cell_type": "code",
   "execution_count": null,
   "metadata": {},
   "outputs": [],
   "source": [
    "random.shuffle(all_image_names)\n",
    "images_train, images_validation, images_test = all_image_names[:TRAIN_SAMPLE], all_image_names[TRAIN_SAMPLE:VALIDATION_SAMPLE + TRAIN_SAMPLE], all_image_names[SAMPLE_SIZE - TEST_SAMPLE:]"
   ]
  },
  {
   "cell_type": "code",
   "execution_count": null,
   "metadata": {},
   "outputs": [],
   "source": [
    "def couples_generator(images):\n",
    "    for i in images:\n",
    "        yield load_pair(i), utils.to_categorical_label(labels[i], args['classification_type'])"
   ]
  },
  {
   "cell_type": "code",
   "execution_count": null,
   "metadata": {},
   "outputs": [],
   "source": [
    "def gen_func(images):\n",
    "    return couples_generator(images)"
   ]
  },
  {
   "cell_type": "code",
   "execution_count": null,
   "metadata": {},
   "outputs": [],
   "source": [
    "train_couples_len = sum(1 for e in gen_func(images_train))\n",
    "validation_couples_len = sum(1 for e in gen_func(images_validation))\n",
    "test_couples_len = sum(1 for e in gen_func(images_test))"
   ]
  },
  {
   "cell_type": "code",
   "execution_count": null,
   "metadata": {},
   "outputs": [],
   "source": [
    "data_gen = utils.get_ImageDataGenerator(all_images, input_shape)\n",
    "\n",
    "train_iterator = utils.CouplesIterator(utils.make_infinite(gen_func, images_train), input_shape, data_gen, BATCH_SIZE)\n",
    "validation_iterator = utils.CouplesIterator(utils.make_infinite(gen_func, images_validation), input_shape, data_gen, BATCH_SIZE)\n",
    "test_iterator = utils.CouplesIterator(utils.make_infinite(gen_func, images_test), input_shape, data_gen, BATCH_SIZE)"
   ]
  },
  {
   "cell_type": "code",
   "execution_count": null,
   "metadata": {},
   "outputs": [],
   "source": [
    "model = network.create(input_shape, args['network'])\n",
    "network.compile(model, args['optimiser'])\n",
    "\n",
    "timer = Timer()\n",
    "callbacks_list = [ModelCheckpoint('best_train_model.hdf5', monitor='val_accuracy', verbose=1, save_best_only=True, mode='max'), timer]\n",
    "\n",
    "if args['early_stopping']:\n",
    "    callbacks_list.append(EarlyStopping(monitor='val_accuracy', patience=2))\n",
    "\n",
    "train_history = model.fit_generator(train_iterator, callbacks=callbacks_list, validation_data=validation_iterator, steps_per_epoch=train_couples_len / BATCH_SIZE, validation_steps=validation_couples_len / BATCH_SIZE, epochs=EPOCHS)\n",
    "score = model.evaluate_generator(test_iterator, steps=test_couples_len / BATCH_SIZE)\n",
    "print(score)\n",
    "\n",
    "train_history = train_history.history\n",
    "train_history.update({'epoch time': timer.epoch_times})\n",
    "information = args\n",
    "information.update({'Accuracy': score, 'Train Time': timer.train_time, 'Number of Train Samples': train_couples_len, 'Number of Validation Samples': validation_couples_len, 'Number of Test Samples': test_couples_len})\n",
    "utils.write_train_info(information, model, train_history)"
   ]
  }
 ],
 "metadata": {
  "colab": {
   "default_view": {},
   "name": "train.ipynb",
   "provenance": [],
   "version": "0.3.2",
   "views": {}
  },
  "kernelspec": {
   "display_name": "Python 3",
   "language": "python",
   "name": "python3"
  },
  "language_info": {
   "codemirror_mode": {
    "name": "ipython",
    "version": 3
   },
   "file_extension": ".py",
   "mimetype": "text/x-python",
   "name": "python",
   "nbconvert_exporter": "python",
   "pygments_lexer": "ipython3",
   "version": "3.6.4"
  }
 },
 "nbformat": 4,
 "nbformat_minor": 1
}
