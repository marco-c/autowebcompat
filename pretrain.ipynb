{
 "cells": [
  {
   "cell_type": "code",
   "execution_count": null,
   "metadata": {},
   "outputs": [],
   "source": [
    "import argparse\n",
    "from functools import lru_cache\n",
    "import itertools\n",
    "import random\n",
    "from urllib.parse import urlparse\n",
    "\n",
    "from keras.callbacks import EarlyStopping, ModelCheckpoint\n",
    "\n",
    "from autowebcompat import network, utils"
   ]
  },
  {
   "cell_type": "code",
   "execution_count": null,
   "metadata": {},
   "outputs": [],
   "source": [
    "SAMPLE_SIZE = 3000\n",
    "BATCH_SIZE = 32\n",
    "EPOCHS = 50\n",
    "random.seed(42)"
   ]
  },
  {
   "cell_type": "code",
   "execution_count": null,
   "metadata": {},
   "outputs": [],
   "source": [
    "parser = argparse.ArgumentParser()\n",
    "parser.add_argument('-n', '--network', type=str, choices=network.SUPPORTED_NETWORKS, help='Select the network to use for training')\n",
    "parser.add_argument('-o', '--optimizer', type=str, choices=network.SUPPORTED_OPTIMIZERS, help='Select the optimizer to use for training')\n",
    "parser.add_argument('-es', '--early_stopping', dest='early_stopping', action='store_true', help='Stop training training when validation accuracy has stopped improving.')\n",
    "args = parser.parse_args()"
   ]
  },
  {
   "cell_type": "code",
   "execution_count": null,
   "metadata": {},
   "outputs": [],
   "source": [
    "bugs = utils.get_bugs()"
   ]
  },
  {
   "cell_type": "code",
   "execution_count": null,
   "metadata": {},
   "outputs": [],
   "source": [
    "utils.prepare_images()\n",
    "all_images = utils.get_all_images()[:SAMPLE_SIZE]\n",
    "image = utils.load_image(all_images[0])\n",
    "input_shape = image.shape"
   ]
  },
  {
   "cell_type": "code",
   "execution_count": null,
   "metadata": {},
   "outputs": [],
   "source": [
    "TRAIN_SAMPLE = 80 * (SAMPLE_SIZE // 100)\n",
    "VALIDATION_SAMPLE = 10 * (SAMPLE_SIZE // 100)\n",
    "TEST_SAMPLE = SAMPLE_SIZE - (TRAIN_SAMPLE + VALIDATION_SAMPLE)"
   ]
  },
  {
   "cell_type": "code",
   "execution_count": null,
   "metadata": {},
   "outputs": [],
   "source": [
    "bugs_to_website = {}\n",
    "for bug in bugs:\n",
    "    bugs_to_website[bug['id']] = urlparse(bug['url']).netloc\n",
    "\n",
    "\n",
    "@lru_cache(maxsize=len(all_images))\n",
    "def site_for_image(image):\n",
    "    bug = image[:image.index('_')]\n",
    "    return bugs_to_website[int(bug)]\n",
    "\n",
    "\n",
    "def are_same_site(image1, image2):\n",
    "    return site_for_image(image1) == site_for_image(image2)\n"
   ]
  },
  {
   "cell_type": "code",
   "execution_count": null,
   "metadata": {},
   "outputs": [],
   "source": [
    "random.shuffle(all_images)\n",
    "images_train, images_validation, images_test = all_images[:TRAIN_SAMPLE], all_images[TRAIN_SAMPLE:VALIDATION_SAMPLE + TRAIN_SAMPLE], all_images[SAMPLE_SIZE - TEST_SAMPLE:]\n",
    "\n",
    "\n",
    "def couples_generator(images):\n",
    "    # for image_couple in itertools.combinations_with_replacement(images, 2):\n",
    "    for image_couple in itertools.combinations(images, 2):\n",
    "        yield image_couple, 1 if are_same_site(image_couple[0], image_couple[1]) else 0\n",
    "\n",
    "\n",
    "def gen_func(images):\n",
    "    return utils.balance(couples_generator(images))\n"
   ]
  },
  {
   "cell_type": "code",
   "execution_count": null,
   "metadata": {},
   "outputs": [],
   "source": [
    "train_couples_len = sum(1 for e in gen_func(images_train))\n",
    "validation_couples_len = sum(1 for e in gen_func(images_validation))\n",
    "test_couples_len = sum(1 for e in gen_func(images_test))"
   ]
  },
  {
   "cell_type": "code",
   "execution_count": null,
   "metadata": {},
   "outputs": [],
   "source": [
    "print('Training with %d couples.' % train_couples_len)\n",
    "print('Validation with %d couples.' % validation_couples_len)\n",
    "print('Testing with %d couples.' % test_couples_len)\n",
    "print(input_shape)"
   ]
  },
  {
   "cell_type": "code",
   "execution_count": null,
   "metadata": {},
   "outputs": [],
   "source": [
    "data_gen = utils.get_ImageDataGenerator(all_images, input_shape)\n",
    "train_iterator = utils.CouplesIterator(utils.make_infinite(gen_func, images_train), input_shape, data_gen, BATCH_SIZE)\n",
    "validation_iterator = utils.CouplesIterator(utils.make_infinite(gen_func, images_validation), input_shape, data_gen, BATCH_SIZE)\n",
    "test_iterator = utils.CouplesIterator(utils.make_infinite(gen_func, images_test), input_shape, data_gen, BATCH_SIZE)"
   ]
  },
  {
   "cell_type": "code",
   "execution_count": null,
   "metadata": {},
   "outputs": [],
   "source": [
    "model = network.create(input_shape, args.network)\n",
    "network.compile(model, args.optimizer)\n",
    "\n",
    "callbacks_list = [ModelCheckpoint('best_pretrain_model.hdf5', monitor='val_accuracy', verbose=1, save_best_only=True, mode='max')]\n",
    "\n",
    "if args.early_stopping:\n",
    "    callbacks_list.append(EarlyStopping(monitor='val_accuracy', patience=2))\n",
    "\n",
    "model.fit_generator(train_iterator, callbacks=callbacks_list, validation_data=validation_iterator, steps_per_epoch=train_couples_len / BATCH_SIZE, validation_steps=validation_couples_len / BATCH_SIZE, epochs=EPOCHS)\n",
    "\n",
    "score = model.evaluate_generator(test_iterator, steps=test_couples_len / BATCH_SIZE)\n",
    "print(score)"
   ]
  },
  {
   "cell_type": "code",
   "execution_count": null,
   "metadata": {},
   "outputs": [],
   "source": [
    "asd = utils.CouplesIterator(utils.make_infinite(gen_func, images_test[:100]), input_shape, data_gen)\n",
    "predict_couples_len = sum(1 for e in utils.balance(couples_generator(images_test)))\n",
    "predictions = model.predict_generator(asd, steps=predict_couples_len / BATCH_SIZE)\n",
    "print(predictions)\n",
    "print([a[1] for a in utils.balance(couples_generator(images_test[:100]))])"
   ]
  }
 ],
 "metadata": {
  "kernelspec": {
   "display_name": "Python 3",
   "language": "python",
   "name": "python3"
  },
  "language_info": {
   "codemirror_mode": {
    "name": "ipython",
    "version": 3
   },
   "file_extension": ".py",
   "mimetype": "text/x-python",
   "name": "python",
   "nbconvert_exporter": "python",
   "pygments_lexer": "ipython3",
   "version": "3.5.5"
  }
 },
 "nbformat": 4,
 "nbformat_minor": 2
}
