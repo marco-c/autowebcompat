{
  "nbformat": 4,
  "nbformat_minor": 0,
  "metadata": {
    "colab": {
      "name": "load_repo.ipynb",
      "version": "0.3.2",
      "views": {},
      "default_view": {},
      "provenance": []
    }
  },
  "cells": [
    {
      "metadata": {
        "id": "JQwDy3kmIur6",
        "colab_type": "text"
      },
      "cell_type": "markdown",
      "source": [
        "*Downloading git LFS*"
      ]
    },
    {
      "metadata": {
        "id": "lBcLdvOAFIfk",
        "colab_type": "code",
        "colab": {
          "autoexec": {
            "startup": false,
            "wait_interval": 0
          }
        }
      },
      "cell_type": "code",
      "source": [
        "! wget https://github.com/git-lfs/git-lfs/releases/download/v2.4.2/git-lfs-linux-amd64-2.4.2.tar.gz"
      ],
      "execution_count": 0,
      "outputs": []
    },
    {
      "metadata": {
        "id": "uOPCNnc7Is5M",
        "colab_type": "text"
      },
      "cell_type": "markdown",
      "source": [
        "*Extracting git LFS*"
      ]
    },
    {
      "metadata": {
        "id": "AFRCLSR9FUmu",
        "colab_type": "code",
        "colab": {
          "autoexec": {
            "startup": false,
            "wait_interval": 0
          }
        }
      },
      "cell_type": "code",
      "source": [
        "! tar xvf git-lfs-linux-amd64-2.4.2.tar.gz"
      ],
      "execution_count": 0,
      "outputs": []
    },
    {
      "metadata": {
        "id": "x-Fid9IaI-J-",
        "colab_type": "text"
      },
      "cell_type": "markdown",
      "source": [
        "*Installing git LFS*"
      ]
    },
    {
      "metadata": {
        "id": "L0P6khtrFXpW",
        "colab_type": "code",
        "colab": {
          "autoexec": {
            "startup": false,
            "wait_interval": 0
          }
        }
      },
      "cell_type": "code",
      "source": [
        "! cd git-lfs-2.4.2/ && ./install.sh"
      ],
      "execution_count": 0,
      "outputs": []
    },
    {
      "metadata": {
        "id": "kgzSKuXUFZi0",
        "colab_type": "code",
        "colab": {
          "autoexec": {
            "startup": false,
            "wait_interval": 0
          }
        }
      },
      "cell_type": "code",
      "source": [
        "! git lfs install"
      ],
      "execution_count": 0,
      "outputs": []
    },
    {
      "metadata": {
        "id": "nJ31i4Z8JHa8",
        "colab_type": "text"
      },
      "cell_type": "markdown",
      "source": [
        "*Cloning the repository*"
      ]
    },
    {
      "metadata": {
        "id": "NPOQ5rFHFbnU",
        "colab_type": "code",
        "colab": {
          "autoexec": {
            "startup": false,
            "wait_interval": 0
          }
        }
      },
      "cell_type": "code",
      "source": [
        "! git lfs clone --recurse-submodules https://github.com/marco-c/autowebcompat.git"
      ],
      "execution_count": 0,
      "outputs": []
    },
    {
      "metadata": {
        "id": "8E5K5gxGJKrW",
        "colab_type": "text"
      },
      "cell_type": "markdown",
      "source": [
        "*Marking working directory*"
      ]
    },
    {
      "metadata": {
        "id": "GIxBvGGdFdoK",
        "colab_type": "code",
        "colab": {
          "autoexec": {
            "startup": false,
            "wait_interval": 0
          }
        }
      },
      "cell_type": "code",
      "source": [
        "import os\n",
        "os.chdir('autowebcompat')"
      ],
      "execution_count": 0,
      "outputs": []
    },
    {
      "metadata": {
        "id": "ugZB2EhbJOui",
        "colab_type": "text"
      },
      "cell_type": "markdown",
      "source": [
        "*Installing requirements*"
      ]
    },
    {
      "metadata": {
        "id": "wBqw99O-FfTK",
        "colab_type": "code",
        "colab": {
          "autoexec": {
            "startup": false,
            "wait_interval": 0
          }
        }
      },
      "cell_type": "code",
      "source": [
        "! pip install -r requirements.txt"
      ],
      "execution_count": 0,
      "outputs": []
    },
    {
      "metadata": {
        "id": "SREO2hv9FhgE",
        "colab_type": "code",
        "colab": {
          "autoexec": {
            "startup": false,
            "wait_interval": 0
          }
        }
      },
      "cell_type": "code",
      "source": [
        "! pip install -r test-requirements.txt"
      ],
      "execution_count": 0,
      "outputs": []
    },
    {
      "metadata": {
        "id": "2HichwT2JR4W",
        "colab_type": "text"
      },
      "cell_type": "markdown",
      "source": [
        "*Run the model*"
      ]
    },
    {
      "metadata": {
        "id": "K8peoV51Fj4A",
        "colab_type": "code",
        "colab": {
          "autoexec": {
            "startup": false,
            "wait_interval": 0
          }
        }
      },
      "cell_type": "code",
      "source": [
        "! python3 train.py -n=inception -o=adam -ct='Y vs D + N'"
      ],
      "execution_count": 0,
      "outputs": []
    }
  ]
}